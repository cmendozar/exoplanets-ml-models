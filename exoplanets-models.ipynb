{
 "cells": [
  {
   "cell_type": "markdown",
   "metadata": {},
   "source": [
    "#### SEGUNDA PARTE\n",
    "#### CONSISTE EN LA GENERACIÓN DEL MODELO. \n",
    "\n",
    "Realizada por Carlos Mendoza R. \n",
    "\n",
    "*Se separó con el fin de no extender demasiado el documento y separar el análisis exploratiorio de las variables de la creación del modelo* \n",
    "\n",
    "*Entendiendo que el primer archivo puede servir de input a este para entregar las variables seleccionadas para el modelo y aquí obtener el mejor modelo para la predicción de exoplanetas."
   ]
  },
  {
   "cell_type": "code",
   "execution_count": 11,
   "metadata": {},
   "outputs": [],
   "source": [
    "import warnings\n",
    "warnings.filterwarnings(\"ignore\")\n",
    "import pandas as pd\n",
    "import numpy as np\n",
    "\n",
    "import matplotlib.pyplot as plt \n",
    "#import plotly.express as px\n",
    "\n",
    "import scipy.stats as ss\n",
    "import seaborn as sns\n",
    "\n",
    "from sklearn.utils import shuffle\n",
    "from sklearn.preprocessing import MinMaxScaler,StandardScaler\n",
    "from sklearn.linear_model import LogisticRegression\n",
    "from sklearn.model_selection import RepeatedStratifiedKFold\n",
    "from sklearn.model_selection import GridSearchCV,RandomizedSearchCV\n",
    "\n",
    "from sklearn.metrics import (confusion_matrix, ConfusionMatrixDisplay,\n",
    "accuracy_score,recall_score,precision_score,f1_score)\n",
    "\n",
    "from xgboost import XGBClassifier\n",
    "from scipy.stats import uniform, randint\n",
    "\n",
    "#plt.style.use('seaborn-bright')"
   ]
  },
  {
   "cell_type": "markdown",
   "metadata": {},
   "source": [
    "- Las variables seleccionadas del proceso anterior son las siguientes:"
   ]
  },
  {
   "cell_type": "code",
   "execution_count": 5,
   "metadata": {},
   "outputs": [
    {
     "data": {
      "text/plain": [
       "19"
      ]
     },
     "execution_count": 5,
     "metadata": {},
     "output_type": "execute_result"
    }
   ],
   "source": [
    "features_variables = ['koi_fpflag_nt','koi_fpflag_ss','koi_fpflag_co','koi_fpflag_ec',\n",
    "'koi_impact_err2', 'koi_depth_err1', 'koi_depth_err2', 'koi_prad_err2',\n",
    "'koi_period','koi_time0bk','koi_impact','koi_impact_err1','koi_impact_err2',\n",
    "'koi_steff','koi_steff_err1','koi_steff_err2','koi_model_snr','koi_srad','koi_duration'\n",
    "]\n",
    "model_variables = ['koi_disposition','koi_fpflag_nt','koi_fpflag_ss','koi_fpflag_co','koi_fpflag_ec',\n",
    "'koi_impact_err2', 'koi_depth_err1', 'koi_depth_err2', 'koi_prad_err2',\n",
    "'koi_period','koi_time0bk','koi_impact','koi_impact_err1','koi_impact_err2',\n",
    "'koi_steff','koi_steff_err1','koi_steff_err2','koi_model_snr','koi_srad','koi_duration'\n",
    "]\n",
    "len(features_variables)"
   ]
  },
  {
   "cell_type": "markdown",
   "metadata": {},
   "source": [
    "En el siguiente código se muestra:\n",
    "1. Importación de la data.\n",
    "2. Creación de la variable objetivo.\n",
    "3. Filtro de variables elegidas para el modelo\n"
   ]
  },
  {
   "cell_type": "code",
   "execution_count": 6,
   "metadata": {},
   "outputs": [
    {
     "data": {
      "text/html": [
       "<div>\n",
       "<style scoped>\n",
       "    .dataframe tbody tr th:only-of-type {\n",
       "        vertical-align: middle;\n",
       "    }\n",
       "\n",
       "    .dataframe tbody tr th {\n",
       "        vertical-align: top;\n",
       "    }\n",
       "\n",
       "    .dataframe thead th {\n",
       "        text-align: right;\n",
       "    }\n",
       "</style>\n",
       "<table border=\"1\" class=\"dataframe\">\n",
       "  <thead>\n",
       "    <tr style=\"text-align: right;\">\n",
       "      <th></th>\n",
       "      <th>koi_disposition</th>\n",
       "      <th>koi_fpflag_nt</th>\n",
       "      <th>koi_fpflag_ss</th>\n",
       "      <th>koi_fpflag_co</th>\n",
       "      <th>koi_fpflag_ec</th>\n",
       "      <th>koi_impact_err2</th>\n",
       "      <th>koi_depth_err1</th>\n",
       "      <th>koi_depth_err2</th>\n",
       "      <th>koi_prad_err2</th>\n",
       "      <th>koi_period</th>\n",
       "      <th>koi_time0bk</th>\n",
       "      <th>koi_impact</th>\n",
       "      <th>koi_impact_err1</th>\n",
       "      <th>koi_impact_err2</th>\n",
       "      <th>koi_steff</th>\n",
       "      <th>koi_steff_err1</th>\n",
       "      <th>koi_steff_err2</th>\n",
       "      <th>koi_model_snr</th>\n",
       "      <th>koi_srad</th>\n",
       "      <th>koi_duration</th>\n",
       "    </tr>\n",
       "  </thead>\n",
       "  <tbody>\n",
       "    <tr>\n",
       "      <th>0</th>\n",
       "      <td>1</td>\n",
       "      <td>0</td>\n",
       "      <td>0</td>\n",
       "      <td>0</td>\n",
       "      <td>0</td>\n",
       "      <td>-0.2270</td>\n",
       "      <td>23.5</td>\n",
       "      <td>-23.5</td>\n",
       "      <td>-0.06</td>\n",
       "      <td>5.774403</td>\n",
       "      <td>132.96695</td>\n",
       "      <td>0.4250</td>\n",
       "      <td>0.5150</td>\n",
       "      <td>-0.2270</td>\n",
       "      <td>3808</td>\n",
       "      <td>76</td>\n",
       "      <td>-84</td>\n",
       "      <td>11.8</td>\n",
       "      <td>0.508</td>\n",
       "      <td>1.76800</td>\n",
       "    </tr>\n",
       "    <tr>\n",
       "      <th>1</th>\n",
       "      <td>0</td>\n",
       "      <td>0</td>\n",
       "      <td>1</td>\n",
       "      <td>0</td>\n",
       "      <td>0</td>\n",
       "      <td>-0.0050</td>\n",
       "      <td>153.0</td>\n",
       "      <td>-153.0</td>\n",
       "      <td>-6.39</td>\n",
       "      <td>3.564614</td>\n",
       "      <td>131.86235</td>\n",
       "      <td>0.9890</td>\n",
       "      <td>0.0340</td>\n",
       "      <td>-0.0050</td>\n",
       "      <td>5891</td>\n",
       "      <td>177</td>\n",
       "      <td>-195</td>\n",
       "      <td>728.8</td>\n",
       "      <td>0.892</td>\n",
       "      <td>3.44204</td>\n",
       "    </tr>\n",
       "    <tr>\n",
       "      <th>2</th>\n",
       "      <td>1</td>\n",
       "      <td>0</td>\n",
       "      <td>0</td>\n",
       "      <td>0</td>\n",
       "      <td>0</td>\n",
       "      <td>-0.1600</td>\n",
       "      <td>18.5</td>\n",
       "      <td>-18.5</td>\n",
       "      <td>-0.08</td>\n",
       "      <td>2.295035</td>\n",
       "      <td>132.69329</td>\n",
       "      <td>0.1600</td>\n",
       "      <td>0.2910</td>\n",
       "      <td>-0.1600</td>\n",
       "      <td>5637</td>\n",
       "      <td>101</td>\n",
       "      <td>-112</td>\n",
       "      <td>11.6</td>\n",
       "      <td>0.909</td>\n",
       "      <td>1.65400</td>\n",
       "    </tr>\n",
       "    <tr>\n",
       "      <th>3</th>\n",
       "      <td>0</td>\n",
       "      <td>0</td>\n",
       "      <td>0</td>\n",
       "      <td>0</td>\n",
       "      <td>0</td>\n",
       "      <td>-0.2514</td>\n",
       "      <td>14.6</td>\n",
       "      <td>-14.6</td>\n",
       "      <td>-0.13</td>\n",
       "      <td>0.783258</td>\n",
       "      <td>131.74358</td>\n",
       "      <td>0.2514</td>\n",
       "      <td>0.2138</td>\n",
       "      <td>-0.2514</td>\n",
       "      <td>5067</td>\n",
       "      <td>195</td>\n",
       "      <td>-155</td>\n",
       "      <td>28.5</td>\n",
       "      <td>0.715</td>\n",
       "      <td>2.29260</td>\n",
       "    </tr>\n",
       "    <tr>\n",
       "      <th>4</th>\n",
       "      <td>0</td>\n",
       "      <td>0</td>\n",
       "      <td>0</td>\n",
       "      <td>0</td>\n",
       "      <td>0</td>\n",
       "      <td>-0.2050</td>\n",
       "      <td>8.0</td>\n",
       "      <td>-8.0</td>\n",
       "      <td>-0.82</td>\n",
       "      <td>21.236002</td>\n",
       "      <td>149.88083</td>\n",
       "      <td>0.2050</td>\n",
       "      <td>0.2620</td>\n",
       "      <td>-0.2050</td>\n",
       "      <td>6035</td>\n",
       "      <td>132</td>\n",
       "      <td>-120</td>\n",
       "      <td>15.7</td>\n",
       "      <td>2.559</td>\n",
       "      <td>4.01900</td>\n",
       "    </tr>\n",
       "  </tbody>\n",
       "</table>\n",
       "</div>"
      ],
      "text/plain": [
       "  koi_disposition  koi_fpflag_nt  koi_fpflag_ss  koi_fpflag_co  koi_fpflag_ec  \\\n",
       "0               1              0              0              0              0   \n",
       "1               0              0              1              0              0   \n",
       "2               1              0              0              0              0   \n",
       "3               0              0              0              0              0   \n",
       "4               0              0              0              0              0   \n",
       "\n",
       "   koi_impact_err2  koi_depth_err1  koi_depth_err2  koi_prad_err2  koi_period  \\\n",
       "0          -0.2270            23.5           -23.5          -0.06    5.774403   \n",
       "1          -0.0050           153.0          -153.0          -6.39    3.564614   \n",
       "2          -0.1600            18.5           -18.5          -0.08    2.295035   \n",
       "3          -0.2514            14.6           -14.6          -0.13    0.783258   \n",
       "4          -0.2050             8.0            -8.0          -0.82   21.236002   \n",
       "\n",
       "   koi_time0bk  koi_impact  koi_impact_err1  koi_impact_err2  koi_steff  \\\n",
       "0    132.96695      0.4250           0.5150          -0.2270       3808   \n",
       "1    131.86235      0.9890           0.0340          -0.0050       5891   \n",
       "2    132.69329      0.1600           0.2910          -0.1600       5637   \n",
       "3    131.74358      0.2514           0.2138          -0.2514       5067   \n",
       "4    149.88083      0.2050           0.2620          -0.2050       6035   \n",
       "\n",
       "   koi_steff_err1  koi_steff_err2  koi_model_snr  koi_srad  koi_duration  \n",
       "0              76             -84           11.8     0.508       1.76800  \n",
       "1             177            -195          728.8     0.892       3.44204  \n",
       "2             101            -112           11.6     0.909       1.65400  \n",
       "3             195            -155           28.5     0.715       2.29260  \n",
       "4             132            -120           15.7     2.559       4.01900  "
      ]
     },
     "execution_count": 6,
     "metadata": {},
     "output_type": "execute_result"
    }
   ],
   "source": [
    "#Lectura de la data\n",
    "data = pd.read_csv('exoplanetas.csv', sep = ',')\n",
    "df = data.copy()\n",
    "df.pop('Unnamed: 0')\n",
    "\n",
    "#Creación de variable objetivo como binaria. \n",
    "model_data = df.copy()\n",
    "model_data.koi_disposition[model_data.koi_disposition == 'FALSE POSITIVE'] = 0\n",
    "model_data.koi_disposition[model_data.koi_disposition == 'CANDIDATE'] = 0\n",
    "model_data.koi_disposition[model_data.koi_disposition == 'CONFIRMED'] = 1\n",
    "model_data = model_data[model_variables]\n",
    "\n",
    "# Mezclar la data para darle aleatoriedad a esta y quitar cualquier sesgo de imputación. \n",
    "np.random.seed(4)\n",
    "model_data = shuffle(model_data)\n",
    "model_data = model_data.reset_index()\n",
    "model_data.pop('index')\n",
    "model_data.head()"
   ]
  },
  {
   "cell_type": "markdown",
   "metadata": {},
   "source": [
    "En la siguiente sección se realiza la división de la data en 2 dataset:\n",
    "1. Training Data Set. Es un 80%. \n",
    "2. Testing Data Set. Es un 20%. "
   ]
  },
  {
   "cell_type": "code",
   "execution_count": 7,
   "metadata": {},
   "outputs": [
    {
     "data": {
      "text/html": [
       "<style>#sk-container-id-1 {color: black;background-color: white;}#sk-container-id-1 pre{padding: 0;}#sk-container-id-1 div.sk-toggleable {background-color: white;}#sk-container-id-1 label.sk-toggleable__label {cursor: pointer;display: block;width: 100%;margin-bottom: 0;padding: 0.3em;box-sizing: border-box;text-align: center;}#sk-container-id-1 label.sk-toggleable__label-arrow:before {content: \"▸\";float: left;margin-right: 0.25em;color: #696969;}#sk-container-id-1 label.sk-toggleable__label-arrow:hover:before {color: black;}#sk-container-id-1 div.sk-estimator:hover label.sk-toggleable__label-arrow:before {color: black;}#sk-container-id-1 div.sk-toggleable__content {max-height: 0;max-width: 0;overflow: hidden;text-align: left;background-color: #f0f8ff;}#sk-container-id-1 div.sk-toggleable__content pre {margin: 0.2em;color: black;border-radius: 0.25em;background-color: #f0f8ff;}#sk-container-id-1 input.sk-toggleable__control:checked~div.sk-toggleable__content {max-height: 200px;max-width: 100%;overflow: auto;}#sk-container-id-1 input.sk-toggleable__control:checked~label.sk-toggleable__label-arrow:before {content: \"▾\";}#sk-container-id-1 div.sk-estimator input.sk-toggleable__control:checked~label.sk-toggleable__label {background-color: #d4ebff;}#sk-container-id-1 div.sk-label input.sk-toggleable__control:checked~label.sk-toggleable__label {background-color: #d4ebff;}#sk-container-id-1 input.sk-hidden--visually {border: 0;clip: rect(1px 1px 1px 1px);clip: rect(1px, 1px, 1px, 1px);height: 1px;margin: -1px;overflow: hidden;padding: 0;position: absolute;width: 1px;}#sk-container-id-1 div.sk-estimator {font-family: monospace;background-color: #f0f8ff;border: 1px dotted black;border-radius: 0.25em;box-sizing: border-box;margin-bottom: 0.5em;}#sk-container-id-1 div.sk-estimator:hover {background-color: #d4ebff;}#sk-container-id-1 div.sk-parallel-item::after {content: \"\";width: 100%;border-bottom: 1px solid gray;flex-grow: 1;}#sk-container-id-1 div.sk-label:hover label.sk-toggleable__label {background-color: #d4ebff;}#sk-container-id-1 div.sk-serial::before {content: \"\";position: absolute;border-left: 1px solid gray;box-sizing: border-box;top: 0;bottom: 0;left: 50%;z-index: 0;}#sk-container-id-1 div.sk-serial {display: flex;flex-direction: column;align-items: center;background-color: white;padding-right: 0.2em;padding-left: 0.2em;position: relative;}#sk-container-id-1 div.sk-item {position: relative;z-index: 1;}#sk-container-id-1 div.sk-parallel {display: flex;align-items: stretch;justify-content: center;background-color: white;position: relative;}#sk-container-id-1 div.sk-item::before, #sk-container-id-1 div.sk-parallel-item::before {content: \"\";position: absolute;border-left: 1px solid gray;box-sizing: border-box;top: 0;bottom: 0;left: 50%;z-index: -1;}#sk-container-id-1 div.sk-parallel-item {display: flex;flex-direction: column;z-index: 1;position: relative;background-color: white;}#sk-container-id-1 div.sk-parallel-item:first-child::after {align-self: flex-end;width: 50%;}#sk-container-id-1 div.sk-parallel-item:last-child::after {align-self: flex-start;width: 50%;}#sk-container-id-1 div.sk-parallel-item:only-child::after {width: 0;}#sk-container-id-1 div.sk-dashed-wrapped {border: 1px dashed gray;margin: 0 0.4em 0.5em 0.4em;box-sizing: border-box;padding-bottom: 0.4em;background-color: white;}#sk-container-id-1 div.sk-label label {font-family: monospace;font-weight: bold;display: inline-block;line-height: 1.2em;}#sk-container-id-1 div.sk-label-container {text-align: center;}#sk-container-id-1 div.sk-container {/* jupyter's `normalize.less` sets `[hidden] { display: none; }` but bootstrap.min.css set `[hidden] { display: none !important; }` so we also need the `!important` here to be able to override the default hidden behavior on the sphinx rendered scikit-learn.org. See: https://github.com/scikit-learn/scikit-learn/issues/21755 */display: inline-block !important;position: relative;}#sk-container-id-1 div.sk-text-repr-fallback {display: none;}</style><div id=\"sk-container-id-1\" class=\"sk-top-container\"><div class=\"sk-text-repr-fallback\"><pre>MinMaxScaler()</pre><b>In a Jupyter environment, please rerun this cell to show the HTML representation or trust the notebook. <br />On GitHub, the HTML representation is unable to render, please try loading this page with nbviewer.org.</b></div><div class=\"sk-container\" hidden><div class=\"sk-item\"><div class=\"sk-estimator sk-toggleable\"><input class=\"sk-toggleable__control sk-hidden--visually\" id=\"sk-estimator-id-1\" type=\"checkbox\" checked><label for=\"sk-estimator-id-1\" class=\"sk-toggleable__label sk-toggleable__label-arrow\">MinMaxScaler</label><div class=\"sk-toggleable__content\"><pre>MinMaxScaler()</pre></div></div></div></div></div>"
      ],
      "text/plain": [
       "MinMaxScaler()"
      ]
     },
     "execution_count": 7,
     "metadata": {},
     "output_type": "execute_result"
    }
   ],
   "source": [
    "# Definición de cortes.\n",
    "train_cut = int(len(model_data)*0.8)\n",
    "test_cut = int(len(model_data))-train_cut\n",
    "\n",
    "train_features = model_data.iloc[:train_cut,1:].values\n",
    "test_features = model_data.iloc[train_cut:,1:].values\n",
    "\n",
    "train_target = model_data.iloc[:train_cut,0].values.astype('int')\n",
    "test_target =model_data.iloc[train_cut:,0].values.astype('int')\n",
    "\n",
    "scaler = MinMaxScaler()\n",
    "scaler.fit(train_features)\n"
   ]
  },
  {
   "cell_type": "markdown",
   "metadata": {},
   "source": [
    "### Dentro de las metricas a utilizar para optimizar estos modelos tenemos: \n",
    "1. Accuracy: (TP+TN)/(TP+TN+FP+FN): Nos ayuda a encontrar la mejor predicción consideranto tanto los True Negatives y True Positives.\n",
    "\n",
    "2. Precision: (TP)/(TP+FP). Nos da una medida de calidad del modelo al obtener al saber el porcentaje de planetas que predecimos correctamente sobre el total que predecimos como planetas. \n",
    "\n",
    "3. Recall: (TP)/(FN+TP). Nos entrega el porcentaje de aciertos entre los valores positivos (los que si son planetas) reales. \n",
    "\n",
    "4. F1 score. Combinación de Recall y Precision. \n",
    "\n",
    "#### Usualmente usuaria recall para aumentar la cantidad de predicciones TP que podriamos acertar. Sin embargo, utilizaré la Precisión como medida para los modelos para ir disminuyendo la cantidad de Falsos positivos que podamos predecir(Existian hartos 50% jaja en la base de datos) y así asegurarnos si es que vamos a dar por confirmado un planeta este de verdad sea uno con la mayor precision posible.\n",
    "\n",
    "De todas manera f1 y recall serian opciones validas a utilizar. Habría que confirmar bien que es lo que la NASA esta buscando o preferia priorizar. Accuracy no iria al caso dado la naturaleza del problema no es interesante saber cuales no son planetas no confirmados. "
   ]
  },
  {
   "cell_type": "code",
   "execution_count": 8,
   "metadata": {},
   "outputs": [
    {
     "name": "stdout",
     "output_type": "stream",
     "text": [
      "Recall: 67.60000000000001%, Presicion: 62.8%, F1 score: 65.2%, Accuracy: 82.39999999999999%\n"
     ]
    },
    {
     "data": {
      "text/plain": [
       "(0.6764705882352942, 0.6284153005464481, 0.651558073654391, 0.8241601143674053)"
      ]
     },
     "execution_count": 8,
     "metadata": {},
     "output_type": "execute_result"
    }
   ],
   "source": [
    "#Creacción del modelo Logistic regresion. (Como primer modelo)\n",
    "model = LogisticRegression()\n",
    "model.fit(X = scaler.transform(train_features), y = train_target)\n",
    "\n",
    "test_pred = model.predict(scaler.transform(test_features))\n",
    "\n",
    "\n",
    "def f1_scr(precision,recall):\n",
    "    \"\"\" Función para calcular el F1 score \"\"\"\n",
    "    return 2*(precision*recall)/(precision + recall)\n",
    "\n",
    "def get_metrics(y_target, y_pred):\n",
    "    \"\"\" Función para calcular todas las metricas e imprimirlas. \n",
    "    Creada solo para ahorrar tiempo dsp\"\"\"\n",
    "    recall = recall_score(y_target,y_pred)\n",
    "    presicion = precision_score(y_target,y_pred)\n",
    "    f1 = f1_scr(presicion,recall)\n",
    "    accuracy = accuracy_score(y_target,y_pred)\n",
    "\n",
    "    print(\"Recall: {}%, Presicion: {}%, F1 score: {}%, Accuracy: {}%\".format(\n",
    "        round(recall,3)*100,\n",
    "        round(presicion,3)*100,\n",
    "        round(f1,3)*100,\n",
    "        round(accuracy,3)*100)\n",
    "        )\n",
    "    return recall,presicion,f1,accuracy \n",
    "\n",
    "get_metrics(test_target,test_pred)"
   ]
  },
  {
   "cell_type": "markdown",
   "metadata": {},
   "source": [
    "Ahora vamos a optimizar hyperparametros con la técnica de Grid Research Cross Validation.\n",
    "La idea es encontrar la mejor configuración de hyperparemetros que maximice la métrica recall. \n"
   ]
  },
  {
   "cell_type": "code",
   "execution_count": 6,
   "metadata": {},
   "outputs": [
    {
     "name": "stdout",
     "output_type": "stream",
     "text": [
      " The Best model using recall metric. Value: 0.7317351598173516 using {'C': 100, 'penalty': 'l1', 'solver': 'liblinear'}\n",
      " The Best model using f1 metric. Value: 0.6947316255106929 using {'C': 100, 'penalty': 'l1', 'solver': 'liblinear'}\n",
      " The Best model using precision metric. Value: 0.6706587057980093 using {'C': 0.1, 'penalty': 'l2', 'solver': 'liblinear'}\n"
     ]
    }
   ],
   "source": [
    "metrics = ['recall','f1','precision'] #se definen las métricas a considerar. \n",
    "for metric in metrics: \n",
    "    model_i = LogisticRegression()   #definimos el modelo\n",
    "    solvers = ['newton-cg', 'lbfgs', 'liblinear']\n",
    "    penalty = ['l1','l2','elasticity']\n",
    "    c_values = [100, 10, 1.0, 0.1, 0.01]\n",
    "    # define grid search\n",
    "    grid = dict(solver=solvers,penalty=penalty,C=c_values)\n",
    "    cv = RepeatedStratifiedKFold(n_splits=10, n_repeats=3, random_state=1)\n",
    "    grid_search = GridSearchCV(estimator=model_i, param_grid=grid, n_jobs=-1, cv=cv, scoring=metric,error_score=0)\n",
    "    grid_result = grid_search.fit(scaler.transform(train_features), train_target)\n",
    "    # summarize results\n",
    "    print(f\" The Best model using {metric} metric. Value: {grid_result.best_score_} using {grid_result.best_params_}\")\n",
    "\n",
    "#means = grid_result.cv_results_['mean_test_score']\n",
    "#stds = grid_result.cv_results_['std_test_score']\n",
    "#params = grid_result.cv_results_['params']\n",
    "#for mean, stdev, param in zip(means, stds, params):\n",
    "#    print(\"%f (%f) with: %r\" % (mean, stdev, param))"
   ]
  },
  {
   "cell_type": "markdown",
   "metadata": {},
   "source": [
    "Ahora vamos a evaluar el modelo optimizado con los parametros de mejor rendimiento.\n",
    "Se observa que el recall es de un 72.1% con un aumento de 4.5pp."
   ]
  },
  {
   "cell_type": "code",
   "execution_count": 7,
   "metadata": {},
   "outputs": [
    {
     "name": "stdout",
     "output_type": "stream",
     "text": [
      "Recall: 62.4%, Presicion: 66.7%, F1 score: 64.4%, Accuracy: 83.3%\n"
     ]
    },
    {
     "data": {
      "text/plain": [
       "(0.6235294117647059,\n",
       " 0.6666666666666666,\n",
       " 0.6443768996960486,\n",
       " 0.8327376697641172)"
      ]
     },
     "execution_count": 7,
     "metadata": {},
     "output_type": "execute_result"
    }
   ],
   "source": [
    "#Ajustar el modelo.\n",
    "best_model = LogisticRegression(C = 0.1, solver = 'liblinear', penalty = 'l2')\n",
    "best_model.fit(scaler.transform(train_features),train_target)\n",
    "\n",
    "#Obtener predicciones.\n",
    "best_test_pred = best_model.predict(scaler.transform(test_features))\n",
    "\n",
    "#Cálculo de métricas\n",
    "get_metrics(test_target,best_test_pred)\n",
    "\n"
   ]
  },
  {
   "cell_type": "markdown",
   "metadata": {},
   "source": [
    "Para obtener la matriz de confusión vamos a utilizar las librerias de sklearn.metrics"
   ]
  },
  {
   "cell_type": "code",
   "execution_count": 18,
   "metadata": {},
   "outputs": [
    {
     "name": "stdout",
     "output_type": "stream",
     "text": [
      "Cantidad de valores testeado: 1399\n"
     ]
    },
    {
     "data": {
      "text/plain": [
       "<sklearn.metrics._plot.confusion_matrix.ConfusionMatrixDisplay at 0x7fa740ebb070>"
      ]
     },
     "execution_count": 18,
     "metadata": {},
     "output_type": "execute_result"
    },
    {
     "data": {
      "image/png": "[encoded data removed]",
      "text/plain": [
       "<Figure size 432x288 with 2 Axes>"
      ]
     },
     "metadata": {
      "needs_background": "light"
     },
     "output_type": "display_data"
    }
   ],
   "source": [
    "cm = confusion_matrix(best_test_pred,test_target)\n",
    "print(\"Cantidad de valores testeado: {}\".format(sum(sum(cm))))\n",
    "\n",
    "cm_display = ConfusionMatrixDisplay(confusion_matrix=cm)\n",
    "cm_display.plot()\n"
   ]
  },
  {
   "cell_type": "markdown",
   "metadata": {},
   "source": [
    "Si nuestro modelo nos indica que un candidato es confirmado como planeta, ¿Qué tan seguros podemos estar de qué este sea efectivamente un planeta?\n",
    "- R: Me voy a tomar de la métrica precisión que nos índica de los planetas que predecimos cuantos efectivamente lo son.\n",
    "- La métrica recall nos entrega el porcentaje de los planetas confirmados sobre el total de planetas que realmente lo son. \n"
   ]
  },
  {
   "cell_type": "markdown",
   "metadata": {},
   "source": [
    "Ahora vamos a probar XGBOOST que generalmente tiene mejor desempeño que varios modelos de ML."
   ]
  },
  {
   "cell_type": "code",
   "execution_count": 9,
   "metadata": {},
   "outputs": [
    {
     "name": "stdout",
     "output_type": "stream",
     "text": [
      "Recall: 85.0%, Presicion: 78.10000000000001%, F1 score: 81.39999999999999%, Accuracy: 90.60000000000001%\n"
     ]
    },
    {
     "data": {
      "text/plain": [
       "(0.85, 0.7810810810810811, 0.8140845070422537, 0.9056468906361687)"
      ]
     },
     "execution_count": 9,
     "metadata": {},
     "output_type": "execute_result"
    }
   ],
   "source": [
    "\n",
    "\n",
    "xgb_model = XGBClassifier(objective=\"binary:logistic\", random_state=42, eval_metric = \"auc\")\n",
    "xgb_model.fit(scaler.transform(train_features),train_target)\n",
    "\n",
    "xgb_predict = xgb_model.predict(scaler.transform(test_features))\n",
    "\n",
    "get_metrics(test_target,xgb_predict)\n",
    "\n"
   ]
  },
  {
   "cell_type": "code",
   "execution_count": 158,
   "metadata": {},
   "outputs": [],
   "source": [
    "def report_best_scores(results, n_top=3):\n",
    "    for i in range(1, n_top + 1):\n",
    "        candidates = np.flatnonzero(results['rank_test_score'] == i)\n",
    "        for candidate in candidates:\n",
    "            print(\"Model with rank: {0}\".format(i))\n",
    "            print(\"Mean validation score: {0:.3f} (std: {1:.3f})\".format(\n",
    "                  results['mean_test_score'][candidate],\n",
    "                  results['std_test_score'][candidate]))\n",
    "            print(\"Parameters: {0}\".format(results['params'][candidate]))\n",
    "            print(\"\")"
   ]
  },
  {
   "cell_type": "code",
   "execution_count": 163,
   "metadata": {},
   "outputs": [
    {
     "name": "stdout",
     "output_type": "stream",
     "text": [
      "Fitting 3 folds for each of 200 candidates, totalling 600 fits\n",
      " The Best model using precision metric. Value: 0.8074116526441193 using {'colsample_bytree': 0.794306794322898, 'gamma': 0.2542853455823514, 'learning_rate': 0.3022699421778279, 'max_depth': 4, 'n_estimators': 138, 'subsample': 0.7641531692142519}\n",
      "Model with rank: 1\n",
      "Mean validation score: 0.807 (std: 0.023)\n",
      "Parameters: {'colsample_bytree': 0.794306794322898, 'gamma': 0.2542853455823514, 'learning_rate': 0.3022699421778279, 'max_depth': 4, 'n_estimators': 138, 'subsample': 0.7641531692142519}\n",
      "\n",
      "Fitting 3 folds for each of 200 candidates, totalling 600 fits\n",
      " The Best model using recall metric. Value: 0.8520588806922369 using {'colsample_bytree': 0.8958238323555624, 'gamma': 0.11909139052336326, 'learning_rate': 0.05983241782780355, 'max_depth': 5, 'n_estimators': 123, 'subsample': 0.8889067727422637}\n",
      "Model with rank: 1\n",
      "Mean validation score: 0.852 (std: 0.005)\n",
      "Parameters: {'colsample_bytree': 0.8958238323555624, 'gamma': 0.11909139052336326, 'learning_rate': 0.05983241782780355, 'max_depth': 5, 'n_estimators': 123, 'subsample': 0.8889067727422637}\n",
      "\n",
      "Fitting 3 folds for each of 200 candidates, totalling 600 fits\n",
      " The Best model using f1 metric. Value: 0.8221976350111163 using {'colsample_bytree': 0.8940545085006171, 'gamma': 0.1941341919949361, 'learning_rate': 0.0988184237114849, 'max_depth': 5, 'n_estimators': 127, 'subsample': 0.7441380380821073}\n",
      "Model with rank: 1\n",
      "Mean validation score: 0.822 (std: 0.007)\n",
      "Parameters: {'colsample_bytree': 0.8940545085006171, 'gamma': 0.1941341919949361, 'learning_rate': 0.0988184237114849, 'max_depth': 5, 'n_estimators': 127, 'subsample': 0.7441380380821073}\n",
      "\n"
     ]
    }
   ],
   "source": [
    "#Definición de parametros a iterar de manera random \n",
    "params = {\n",
    "    \"colsample_bytree\": uniform(0.7, 0.3),\n",
    "    \"gamma\": uniform(0, 0.5),\n",
    "    \"learning_rate\": uniform(0.03, 0.3), # default 0.1 \n",
    "    \"max_depth\": randint(2, 6), # default 3\n",
    "    \"n_estimators\": randint(100, 150), # default 100\n",
    "    \"subsample\": uniform(0.6, 0.4)\n",
    "}\n",
    "#Métricas a optimizar\n",
    "metrics = ['precision','recall','f1']\n",
    "\n",
    "#Proceso que  optimiza a través de RANDOMIZED SEARCH CROSS VALIDATION\n",
    "for metric in metrics: \n",
    "    xgb_model_opt = XGBClassifier()\n",
    "    search = RandomizedSearchCV(xgb_model_opt, param_distributions=params, random_state=42, \n",
    "                                n_iter=200, cv=3, verbose=1, n_jobs=1, \n",
    "                                return_train_score=True,scoring=metric)\n",
    "\n",
    "    random_result = search.fit(scaler.transform(train_features), train_target)\n",
    "    print(f\" The Best model using {metric} metric. Value: {random_result.best_score_} using {random_result.best_params_}\")\n",
    "    report_best_scores(search.cv_results_, 1)\n"
   ]
  },
  {
   "cell_type": "code",
   "execution_count": 14,
   "metadata": {},
   "outputs": [
    {
     "name": "stdout",
     "output_type": "stream",
     "text": [
      "Recall: 83.8%, Presicion: 78.9%, F1 score: 81.3%, Accuracy: 90.60000000000001%\n"
     ]
    },
    {
     "data": {
      "text/plain": [
       "(0.8382352941176471, 0.7894736842105263, 0.8131241084165478, 0.906361686919228)"
      ]
     },
     "execution_count": 14,
     "metadata": {},
     "output_type": "execute_result"
    }
   ],
   "source": [
    "#Codear modelo optimizado!! \n",
    "best_xgb_model = XGBClassifier(colsample_bytree= 0.794306794322898, \n",
    "                                gamma =  0.2542853455823514, \n",
    "                                learning_rate = 0.3022699421778279,\n",
    "                                max_depth= 4, \n",
    "                                n_estimators= 138,\n",
    "                                subsample = 0.7641531692142519)\n",
    "\n",
    "#Ajustar el modelo\n",
    "best_xgb_model.fit(scaler.transform(train_features),train_target)\n",
    "\n",
    "#Predecir los valores\n",
    "best_xgb_pred = best_xgb_model.predict(scaler.transform(test_features))\n",
    "\n",
    "#Obtener las métricas\n",
    "get_metrics(test_target,best_xgb_pred)\n",
    "\n"
   ]
  },
  {
   "cell_type": "code",
   "execution_count": 15,
   "metadata": {},
   "outputs": [
    {
     "name": "stdout",
     "output_type": "stream",
     "text": [
      "Cantidad de valores testeado: 1399\n"
     ]
    },
    {
     "data": {
      "text/plain": [
       "<sklearn.metrics._plot.confusion_matrix.ConfusionMatrixDisplay at 0x7fc01276c640>"
      ]
     },
     "execution_count": 15,
     "metadata": {},
     "output_type": "execute_result"
    },
    {
     "data": {
      "image/png": "[encoded data removed]",
      "text/plain": [
       "<Figure size 432x288 with 2 Axes>"
      ]
     },
     "metadata": {
      "needs_background": "light"
     },
     "output_type": "display_data"
    }
   ],
   "source": [
    "xgb_cm = confusion_matrix(test_target,best_xgb_pred)\n",
    "print(\"Cantidad de valores testeado: {}\".format(sum(sum(xgb_cm))))\n",
    "\n",
    "xgb_cm_display = ConfusionMatrixDisplay(confusion_matrix=xgb_cm)\n",
    "xgb_cm_display.plot()"
   ]
  },
  {
   "cell_type": "markdown",
   "metadata": {},
   "source": [
    "Si nuestro modelo nos indica que un candidato es confirmado como planeta, ¿Qu ́e tan seguros podemos estar de que  ́este sea efectivamente un planeta? Comente\n",
    "\n",
    "- Utilizare la metrica f1 score como base para responder esta pregunta ya que nos entrga un valor 'medio' entre la precision y recall. Por lo que estariamos hablando para el modelo de XGBOOST el cual tiene un mejor desempeño en todas las métricas. Podriamos estar seguro en un 82% aproximadamente. Sobre un 80% considerando recall y precision."
   ]
  },
  {
   "cell_type": "markdown",
   "metadata": {},
   "source": [
    "Ahora se obtine el grafico de 'feature importance' con el fin de entender a que variables es más sensible el modelo y poder hacer recomentadicones cualitativas."
   ]
  },
  {
   "cell_type": "code",
   "execution_count": 22,
   "metadata": {},
   "outputs": [
    {
     "data": {
      "text/plain": [
       "<BarContainer object of 19 artists>"
      ]
     },
     "execution_count": 22,
     "metadata": {},
     "output_type": "execute_result"
    },
    {
     "data": {
      "image/png": "[encoded data removed]",
      "text/plain": [
       "<Figure size 432x288 with 1 Axes>"
      ]
     },
     "metadata": {
      "needs_background": "light"
     },
     "output_type": "display_data"
    }
   ],
   "source": [
    "\n",
    "plt.barh(features_variables,best_xgb_model.feature_importances_)"
   ]
  }
 ],
 "metadata": {
  "kernelspec": {
   "display_name": "Python 3.8.8 ('base')",
   "language": "python",
   "name": "python3"
  },
  "language_info": {
   "codemirror_mode": {
    "name": "ipython",
    "version": 3
   },
   "file_extension": ".py",
   "mimetype": "text/x-python",
   "name": "python",
   "nbconvert_exporter": "python",
   "pygments_lexer": "ipython3",
   "version": "3.8.8"
  },
  "orig_nbformat": 4,
  "vscode": {
   "interpreter": {
    "hash": "24b4a5161a7dbc0ca27ec4b8da98573896bbc73acee81e4a10592b94f9185a1a"
   }
  }
 },
 "nbformat": 4,
 "nbformat_minor": 2
}
